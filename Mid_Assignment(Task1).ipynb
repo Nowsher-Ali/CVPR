{
 "cells": [
  {
   "cell_type": "code",
   "execution_count": 1,
   "metadata": {},
   "outputs": [
    {
     "name": "stdout",
     "output_type": "stream",
     "text": [
      "['airplane', 'automobile', 'bird', 'cat', 'deer', 'dog', 'frog', 'horse', 'ship', 'truck']\n"
     ]
    }
   ],
   "source": [
    "import os\n",
    "search_path = 'C:\\\\Users\\\\Acer\\\\Desktop\\\\CVPR\\\\train'   \n",
    "root, dirs, files = next(os.walk(search_path), ([],[],[]))\n",
    "print(dirs)"
   ]
  },
  {
   "cell_type": "code",
   "execution_count": 2,
   "metadata": {},
   "outputs": [],
   "source": [
    "import cv2\n",
    "import os\n",
    "import numpy as np\n",
    "\n",
    "def load_images_from_folder(folder):\n",
    "    images = []\n",
    "    for filename in os.listdir(folder):\n",
    "        img = cv2.imread(os.path.join(folder,filename))\n",
    "        if img is not None:\n",
    "            images.append(img)\n",
    "    return images"
   ]
  },
  {
   "cell_type": "code",
   "execution_count": 3,
   "metadata": {},
   "outputs": [],
   "source": [
    "train_images = []\n",
    "train_labels = []\n",
    "\n",
    "for x in dirs:\n",
    "    img_path = 'train\\\\'+str(x)\n",
    "    img = load_images_from_folder(img_path)\n",
    "#     train_images.append(img)\n",
    "    for i in range(100):\n",
    "        train_labels.append(x)\n",
    "        train_images.append(img[i])\n",
    "train_images = np.array(train_images)\n",
    "train_labels = np.array(train_labels)"
   ]
  },
  {
   "cell_type": "code",
   "execution_count": 6,
   "metadata": {},
   "outputs": [],
   "source": [
    "test_images = []\n",
    "test_labels = []\n",
    "\n",
    "for x in dirs:\n",
    "    img_path = 'test\\\\'+str(x)\n",
    "    img = load_images_from_folder(img_path)\n",
    "#     train_images.append(img)\n",
    "    for i in range(100):\n",
    "        test_labels.append(x)\n",
    "        test_images.append(img[i])\n",
    "test_images = np.array(test_images)\n",
    "test_labels = np.array(test_labels)"
   ]
  },
  {
   "cell_type": "code",
   "execution_count": 7,
   "metadata": {},
   "outputs": [],
   "source": [
    "l = len(test_images)"
   ]
  },
  {
   "cell_type": "code",
   "execution_count": 8,
   "metadata": {},
   "outputs": [],
   "source": [
    "def KNN_Predictor(test_image):\n",
    "    cnt = {}\n",
    "    max_cnt = -1\n",
    "    res = \"\"\n",
    "    for x in dirs:\n",
    "        cnt.update({x:0})\n",
    "    for k in range(20):\n",
    "        lis = []\n",
    "        co = 0\n",
    "        for j in range(l):\n",
    "            dist = np.linalg.norm(test_images[i]-train_images[j])\n",
    "            lis.append([dist, train_labels[co]])\n",
    "            co += 1\n",
    "        lis.sort()\n",
    "        mv = -1\n",
    "        val = \"\"\n",
    "        mp = {}\n",
    "        for x in dirs:\n",
    "            mp.update({x:0})\n",
    "        for j in range(1, k):\n",
    "            mp[lis[j][1]] += 1\n",
    "            if mp[ lis[j][1] ] > mv:\n",
    "                mv = mp[ lis[j][1] ]\n",
    "                val = str(lis[j][1])  \n",
    "        if val in cnt.keys():\n",
    "            cnt[val] += 1\n",
    "        else:\n",
    "            cnt.update({val:0})\n",
    "    for key in cnt:\n",
    "        if cnt[key] > max_cnt:\n",
    "            max_cnt = cnt[key]\n",
    "            res = key;\n",
    "    return res"
   ]
  },
  {
   "cell_type": "code",
   "execution_count": 11,
   "metadata": {},
   "outputs": [
    {
     "name": "stdout",
     "output_type": "stream",
     "text": [
      "150/500 correct\n",
      "Accuracy: 0.3\n"
     ]
    }
   ],
   "source": [
    "tot = 0\n",
    "corr = 0\n",
    "\n",
    "for i in range(0,1000,100):\n",
    "    for j in range(i,i+50):\n",
    "        tot += 1\n",
    "        if test_labels[j] ==  KNN_Predictor(test_images[j]):\n",
    "            corr += 1\n",
    "#     print(\"Original:\", test_labels[j], \" Predicted:\", KNN_Predictor(test_images[i]))\n",
    "print(\"%s/%s correct\" % (corr, tot))\n",
    "print(\"Accuracy: %s\" % (corr/tot))"
   ]
  },
  {
   "cell_type": "code",
   "execution_count": 13,
   "metadata": {},
   "outputs": [],
   "source": [
    "import matplotlib.pyplot as plt\n",
    "\n",
    "def acc_plot():\n",
    "    X = []\n",
    "    Y = []\n",
    "    for k in range(20):\n",
    "        cnt = 0\n",
    "        for i in range(l):\n",
    "            lis = []\n",
    "            co = 0\n",
    "            for j in range(l):\n",
    "                dist = np.linalg.norm(test_images[i]-train_images[j])\n",
    "                lis.append([dist, train_labels[co]])\n",
    "                co += 1\n",
    "            lis.sort()\n",
    "            mv = -1\n",
    "            val = \"\"\n",
    "            mp = {}\n",
    "            for x in dirs:\n",
    "                mp.update({x:0})\n",
    "            for j in range(1, k):\n",
    "                mp[lis[j][1]] += 1\n",
    "                if mp[ lis[j][1] ] > mv:\n",
    "                    mv = mp[ lis[j][1] ]\n",
    "                    val = lis[j][1]\n",
    "\n",
    "            if val == test_labels[i]:\n",
    "                cnt += 1\n",
    "        X.append(k)\n",
    "        Y.append( (cnt*100) / l)\n",
    "#     plt.plot(X, Y, 'b')\n",
    "    plt.plot(X, Y, color='blue', linestyle='dashed', linewidth = 3, marker='o', markerfacecolor='blue', markersize=12)\n",
    "    plt.title('Accuracy vs K')\n",
    "    plt.xlabel('K')\n",
    "    plt.ylabel('Accuracy in %')\n",
    "    plt.show()"
   ]
  },
  {
   "cell_type": "code",
   "execution_count": 14,
   "metadata": {},
   "outputs": [
    {
     "data": {
      "image/png": "[encoded data removed]",
      "text/plain": [
       "<Figure size 432x288 with 1 Axes>"
      ]
     },
     "metadata": {
      "needs_background": "light"
     },
     "output_type": "display_data"
    }
   ],
   "source": [
    "acc_plot()"
   ]
  },
  {
   "cell_type": "code",
   "execution_count": null,
   "metadata": {},
   "outputs": [],
   "source": []
  }
 ],
 "metadata": {
  "kernelspec": {
   "display_name": "Python 3",
   "language": "python",
   "name": "python3"
  },
  "language_info": {
   "codemirror_mode": {
    "name": "ipython",
    "version": 3
   },
   "file_extension": ".py",
   "mimetype": "text/x-python",
   "name": "python",
   "nbconvert_exporter": "python",
   "pygments_lexer": "ipython3",
   "version": "3.7.3"
  }
 },
 "nbformat": 4,
 "nbformat_minor": 2
}
